{
 "cells": [
  {
   "cell_type": "markdown",
   "id": "a610c324-4d7a-4a16-b006-92a94d8fab30",
   "metadata": {},
   "source": [
    "# Data Science Tools and Ecosystem"
   ]
  },
  {
   "cell_type": "markdown",
   "id": "a1c68874-6bb3-4565-9566-7fd61719412c",
   "metadata": {},
   "source": [
    "In this notebook, Data Science Tools and Ecosystem are summarized."
   ]
  },
  {
   "cell_type": "markdown",
   "id": "854ff518-e39f-4beb-bb36-4f906cb38ee4",
   "metadata": {},
   "source": [
    "__Objectives__:\n",
    "* List of popular languages for Data Science \n",
    "* Open source tools for Data Science \n",
    "* Libraries for Data Science \n",
    "* Powering Data Science using Datasets \n",
    "* Machine Learning Models"
   ]
  },
  {
   "cell_type": "markdown",
   "id": "fd2f63fc-6e81-40e4-9c0f-1125a01bf31a",
   "metadata": {},
   "source": [
    "Some of the popular languages that Data Scientists use are:\n",
    "1. Python\n",
    "2. R\n",
    "3. SQL\n",
    "4. Julia\n",
    "5. Visual Basic"
   ]
  },
  {
   "cell_type": "markdown",
   "id": "74dbee3f-c23b-4965-b862-0f88a230e572",
   "metadata": {},
   "source": [
    "Some of the commonly used libraries used by Data Scientists include:\n",
    "1. Pandas (for data structures)\n",
    "2. Numpy (for arrays and matrices)\n",
    "3. Scikit Learn (for machine learning - classification, regression,)\n",
    "4. Keras (for deep learning)\n",
    "5. Seaborn (for generating heat maps)\n",
    "6. PyTorch (for experimentation)\n",
    "7. TensorFlow (for production and deployment)"
   ]
  },
  {
   "cell_type": "markdown",
   "id": "fb653e41-0bfd-4a8d-9975-867b4b3df56d",
   "metadata": {},
   "source": [
    "| Data Science Tools |\n",
    "| ------------------ |\n",
    "| MySQL, PostgreSQL |\n",
    "| KubeFlow, Apache Kafka |\n",
    "| ModelDB, Prometheus |"
   ]
  },
  {
   "cell_type": "markdown",
   "id": "df4dce02-dd91-403f-8b75-e3aa98831241",
   "metadata": {},
   "source": [
    "### Below are a few examples of evaluating arithmetic expressions in Python:"
   ]
  },
  {
   "cell_type": "code",
   "execution_count": 1,
   "id": "c5e8b0e6-409b-495e-8a93-b7dd160f6bfb",
   "metadata": {},
   "outputs": [
    {
     "data": {
      "text/plain": [
       "17"
      ]
     },
     "execution_count": 1,
     "metadata": {},
     "output_type": "execute_result"
    }
   ],
   "source": [
    "#This is a simple arithmetic expression to multiply and then add integers\n",
    "\n",
    "(3 * 4) + 5"
   ]
  },
  {
   "cell_type": "code",
   "execution_count": 2,
   "id": "913a1d96-da5a-49a0-84b9-cb0c924fd02b",
   "metadata": {},
   "outputs": [
    {
     "name": "stdout",
     "output_type": "stream",
     "text": [
      "3.3333333333333335 hours\n"
     ]
    }
   ],
   "source": [
    "#This will convert minutes to hours by dividing by 60\n",
    "\n",
    "mins = 200\n",
    "hours = 200/60\n",
    "print(hours, \"hours\")"
   ]
  },
  {
   "cell_type": "markdown",
   "id": "14c4fbb5-90f1-4d35-a4b1-824c8f9e5451",
   "metadata": {},
   "source": [
    "## Author\n",
    "Joy U. Olayiwola"
   ]
  },
  {
   "cell_type": "code",
   "execution_count": null,
   "id": "50ac0759-3603-488a-81fb-4a75a7ddcb9d",
   "metadata": {},
   "outputs": [],
   "source": []
  }
 ],
 "metadata": {
  "kernelspec": {
   "display_name": "Python 3 (ipykernel)",
   "language": "python",
   "name": "python3"
  },
  "language_info": {
   "codemirror_mode": {
    "name": "ipython",
    "version": 3
   },
   "file_extension": ".py",
   "mimetype": "text/x-python",
   "name": "python",
   "nbconvert_exporter": "python",
   "pygments_lexer": "ipython3",
   "version": "3.12.4"
  }
 },
 "nbformat": 4,
 "nbformat_minor": 5
}
